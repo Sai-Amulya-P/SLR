{
 "cells": [
  {
   "cell_type": "markdown",
   "id": "00b88eac",
   "metadata": {},
   "source": [
    "# SLR - Simple Linear Regeression"
   ]
  },
  {
   "cell_type": "code",
   "execution_count": 1,
   "id": "0f774326",
   "metadata": {},
   "outputs": [],
   "source": [
    "#Recap\n",
    "#Machine learning models are built in order to make predictions.\n",
    "#We gather data, analyse it but how to make predictions?\n",
    "\n",
    "#To make predictions we have to build a model, \n",
    "   #it should be able understand data, identifies some pattern,\n",
    "    #and once u build the model\n",
    "     #based on historical patterns it predicts for new data that comes up in future."
   ]
  },
  {
   "cell_type": "code",
   "execution_count": 2,
   "id": "5800bc3b",
   "metadata": {},
   "outputs": [],
   "source": [
    "#Earlier we learnt about 2 types of modelling:\n",
    " #1. Supervised : There is a dependent var\n",
    " #2. Unsupervised : There is no dependent var.\n",
    "\n",
    "#Under supervised we had 2 models:\n",
    " #1. Regression : When to try to predict some numerical values that is in a continuous range.\n",
    " #2. Classification: When we try to predict some categories/classes etc."
   ]
  },
  {
   "cell_type": "code",
   "execution_count": 3,
   "id": "e652b42c",
   "metadata": {},
   "outputs": [],
   "source": [
    "#We are now starting with SLR\n",
    "\n",
    "#Simple : means there is only 1 input and only 1 output,\n",
    "        #based on 1 input u predict 1 output.\n",
    "    \n",
    "#In linear regression, we find the best fit line which covers most data points.\n",
    "#The best fit line has the least error.\n",
    "#y predicted, OLS, R SQUARE, r (4 topics discussed)"
   ]
  },
  {
   "cell_type": "raw",
   "id": "28ac8500",
   "metadata": {},
   "source": [
    "1) Import the library\n",
    "2) Load our data\n",
    "3) Check if missing values there or not\n",
    "4) Decide x, y that is (i/p and o/p)\n",
    "5) Linearity of data (scatter plot)\n",
    "6) Build the model\n",
    "7) Check p-value\n",
    "8) Check Rsqaure\n",
    "9) Make predictions"
   ]
  },
  {
   "cell_type": "code",
   "execution_count": 4,
   "id": "d209ec26",
   "metadata": {},
   "outputs": [],
   "source": [
    "import pandas as pd\n",
    "import numpy as np\n",
    "import seaborn as sns\n",
    "import matplotlib.pyplot as plt"
   ]
  },
  {
   "cell_type": "code",
   "execution_count": 5,
   "id": "7b6c54ea",
   "metadata": {},
   "outputs": [
    {
     "data": {
      "text/html": [
       "<div>\n",
       "<style scoped>\n",
       "    .dataframe tbody tr th:only-of-type {\n",
       "        vertical-align: middle;\n",
       "    }\n",
       "\n",
       "    .dataframe tbody tr th {\n",
       "        vertical-align: top;\n",
       "    }\n",
       "\n",
       "    .dataframe thead th {\n",
       "        text-align: right;\n",
       "    }\n",
       "</style>\n",
       "<table border=\"1\" class=\"dataframe\">\n",
       "  <thead>\n",
       "    <tr style=\"text-align: right;\">\n",
       "      <th></th>\n",
       "      <th>YearsExperience</th>\n",
       "      <th>Salary</th>\n",
       "    </tr>\n",
       "  </thead>\n",
       "  <tbody>\n",
       "    <tr>\n",
       "      <th>0</th>\n",
       "      <td>1.1</td>\n",
       "      <td>39343.0</td>\n",
       "    </tr>\n",
       "    <tr>\n",
       "      <th>1</th>\n",
       "      <td>1.3</td>\n",
       "      <td>46205.0</td>\n",
       "    </tr>\n",
       "    <tr>\n",
       "      <th>2</th>\n",
       "      <td>1.5</td>\n",
       "      <td>37731.0</td>\n",
       "    </tr>\n",
       "    <tr>\n",
       "      <th>3</th>\n",
       "      <td>2.0</td>\n",
       "      <td>43525.0</td>\n",
       "    </tr>\n",
       "    <tr>\n",
       "      <th>4</th>\n",
       "      <td>2.2</td>\n",
       "      <td>39891.0</td>\n",
       "    </tr>\n",
       "    <tr>\n",
       "      <th>5</th>\n",
       "      <td>2.9</td>\n",
       "      <td>56642.0</td>\n",
       "    </tr>\n",
       "    <tr>\n",
       "      <th>6</th>\n",
       "      <td>3.0</td>\n",
       "      <td>60150.0</td>\n",
       "    </tr>\n",
       "    <tr>\n",
       "      <th>7</th>\n",
       "      <td>3.2</td>\n",
       "      <td>54445.0</td>\n",
       "    </tr>\n",
       "    <tr>\n",
       "      <th>8</th>\n",
       "      <td>3.2</td>\n",
       "      <td>64445.0</td>\n",
       "    </tr>\n",
       "    <tr>\n",
       "      <th>9</th>\n",
       "      <td>3.7</td>\n",
       "      <td>57189.0</td>\n",
       "    </tr>\n",
       "    <tr>\n",
       "      <th>10</th>\n",
       "      <td>3.9</td>\n",
       "      <td>63218.0</td>\n",
       "    </tr>\n",
       "    <tr>\n",
       "      <th>11</th>\n",
       "      <td>4.0</td>\n",
       "      <td>55794.0</td>\n",
       "    </tr>\n",
       "    <tr>\n",
       "      <th>12</th>\n",
       "      <td>4.0</td>\n",
       "      <td>56957.0</td>\n",
       "    </tr>\n",
       "    <tr>\n",
       "      <th>13</th>\n",
       "      <td>4.1</td>\n",
       "      <td>57081.0</td>\n",
       "    </tr>\n",
       "    <tr>\n",
       "      <th>14</th>\n",
       "      <td>4.5</td>\n",
       "      <td>61111.0</td>\n",
       "    </tr>\n",
       "    <tr>\n",
       "      <th>15</th>\n",
       "      <td>4.9</td>\n",
       "      <td>67938.0</td>\n",
       "    </tr>\n",
       "    <tr>\n",
       "      <th>16</th>\n",
       "      <td>5.1</td>\n",
       "      <td>66029.0</td>\n",
       "    </tr>\n",
       "    <tr>\n",
       "      <th>17</th>\n",
       "      <td>5.3</td>\n",
       "      <td>83088.0</td>\n",
       "    </tr>\n",
       "    <tr>\n",
       "      <th>18</th>\n",
       "      <td>5.9</td>\n",
       "      <td>81363.0</td>\n",
       "    </tr>\n",
       "    <tr>\n",
       "      <th>19</th>\n",
       "      <td>6.0</td>\n",
       "      <td>93940.0</td>\n",
       "    </tr>\n",
       "    <tr>\n",
       "      <th>20</th>\n",
       "      <td>6.8</td>\n",
       "      <td>91738.0</td>\n",
       "    </tr>\n",
       "    <tr>\n",
       "      <th>21</th>\n",
       "      <td>7.1</td>\n",
       "      <td>98273.0</td>\n",
       "    </tr>\n",
       "    <tr>\n",
       "      <th>22</th>\n",
       "      <td>7.9</td>\n",
       "      <td>101302.0</td>\n",
       "    </tr>\n",
       "    <tr>\n",
       "      <th>23</th>\n",
       "      <td>8.2</td>\n",
       "      <td>113812.0</td>\n",
       "    </tr>\n",
       "    <tr>\n",
       "      <th>24</th>\n",
       "      <td>8.7</td>\n",
       "      <td>109431.0</td>\n",
       "    </tr>\n",
       "    <tr>\n",
       "      <th>25</th>\n",
       "      <td>9.0</td>\n",
       "      <td>105582.0</td>\n",
       "    </tr>\n",
       "    <tr>\n",
       "      <th>26</th>\n",
       "      <td>9.5</td>\n",
       "      <td>116969.0</td>\n",
       "    </tr>\n",
       "    <tr>\n",
       "      <th>27</th>\n",
       "      <td>9.6</td>\n",
       "      <td>112635.0</td>\n",
       "    </tr>\n",
       "    <tr>\n",
       "      <th>28</th>\n",
       "      <td>10.3</td>\n",
       "      <td>122391.0</td>\n",
       "    </tr>\n",
       "    <tr>\n",
       "      <th>29</th>\n",
       "      <td>10.5</td>\n",
       "      <td>121872.0</td>\n",
       "    </tr>\n",
       "  </tbody>\n",
       "</table>\n",
       "</div>"
      ],
      "text/plain": [
       "    YearsExperience    Salary\n",
       "0               1.1   39343.0\n",
       "1               1.3   46205.0\n",
       "2               1.5   37731.0\n",
       "3               2.0   43525.0\n",
       "4               2.2   39891.0\n",
       "5               2.9   56642.0\n",
       "6               3.0   60150.0\n",
       "7               3.2   54445.0\n",
       "8               3.2   64445.0\n",
       "9               3.7   57189.0\n",
       "10              3.9   63218.0\n",
       "11              4.0   55794.0\n",
       "12              4.0   56957.0\n",
       "13              4.1   57081.0\n",
       "14              4.5   61111.0\n",
       "15              4.9   67938.0\n",
       "16              5.1   66029.0\n",
       "17              5.3   83088.0\n",
       "18              5.9   81363.0\n",
       "19              6.0   93940.0\n",
       "20              6.8   91738.0\n",
       "21              7.1   98273.0\n",
       "22              7.9  101302.0\n",
       "23              8.2  113812.0\n",
       "24              8.7  109431.0\n",
       "25              9.0  105582.0\n",
       "26              9.5  116969.0\n",
       "27              9.6  112635.0\n",
       "28             10.3  122391.0\n",
       "29             10.5  121872.0"
      ]
     },
     "execution_count": 5,
     "metadata": {},
     "output_type": "execute_result"
    }
   ],
   "source": [
    "df=pd.read_csv('Salary_Data.csv')\n",
    "df"
   ]
  },
  {
   "cell_type": "code",
   "execution_count": 6,
   "id": "49ee5f70",
   "metadata": {},
   "outputs": [
    {
     "name": "stdout",
     "output_type": "stream",
     "text": [
      "<class 'pandas.core.frame.DataFrame'>\n",
      "RangeIndex: 30 entries, 0 to 29\n",
      "Data columns (total 2 columns):\n",
      " #   Column           Non-Null Count  Dtype  \n",
      "---  ------           --------------  -----  \n",
      " 0   YearsExperience  30 non-null     float64\n",
      " 1   Salary           30 non-null     float64\n",
      "dtypes: float64(2)\n",
      "memory usage: 608.0 bytes\n"
     ]
    }
   ],
   "source": [
    "df.info()"
   ]
  },
  {
   "cell_type": "code",
   "execution_count": 7,
   "id": "0e41e447",
   "metadata": {},
   "outputs": [
    {
     "data": {
      "text/plain": [
       "<matplotlib.collections.PathCollection at 0x7f92e0424790>"
      ]
     },
     "execution_count": 7,
     "metadata": {},
     "output_type": "execute_result"
    },
    {
     "data": {
      "image/png": "[encoded data removed]",
      "text/plain": [
       "<Figure size 432x288 with 1 Axes>"
      ]
     },
     "metadata": {
      "needs_background": "light"
     },
     "output_type": "display_data"
    }
   ],
   "source": [
    "plt.scatter(df.YearsExperience,df.Salary)"
   ]
  },
  {
   "cell_type": "code",
   "execution_count": 8,
   "id": "e53ce547",
   "metadata": {},
   "outputs": [],
   "source": [
    "#There is some linear and positive relationship. so we can proceed."
   ]
  },
  {
   "cell_type": "code",
   "execution_count": 9,
   "id": "f5ac0695",
   "metadata": {
    "scrolled": true
   },
   "outputs": [
    {
     "data": {
      "text/html": [
       "<div>\n",
       "<style scoped>\n",
       "    .dataframe tbody tr th:only-of-type {\n",
       "        vertical-align: middle;\n",
       "    }\n",
       "\n",
       "    .dataframe tbody tr th {\n",
       "        vertical-align: top;\n",
       "    }\n",
       "\n",
       "    .dataframe thead th {\n",
       "        text-align: right;\n",
       "    }\n",
       "</style>\n",
       "<table border=\"1\" class=\"dataframe\">\n",
       "  <thead>\n",
       "    <tr style=\"text-align: right;\">\n",
       "      <th></th>\n",
       "      <th>YearsExperience</th>\n",
       "      <th>Salary</th>\n",
       "    </tr>\n",
       "  </thead>\n",
       "  <tbody>\n",
       "    <tr>\n",
       "      <th>YearsExperience</th>\n",
       "      <td>1.000000</td>\n",
       "      <td>0.978242</td>\n",
       "    </tr>\n",
       "    <tr>\n",
       "      <th>Salary</th>\n",
       "      <td>0.978242</td>\n",
       "      <td>1.000000</td>\n",
       "    </tr>\n",
       "  </tbody>\n",
       "</table>\n",
       "</div>"
      ],
      "text/plain": [
       "                 YearsExperience    Salary\n",
       "YearsExperience         1.000000  0.978242\n",
       "Salary                  0.978242  1.000000"
      ]
     },
     "execution_count": 9,
     "metadata": {},
     "output_type": "execute_result"
    }
   ],
   "source": [
    "df.corr()       #to see how related x and y are\n",
    "                #strong correlation as it is close to 1."
   ]
  },
  {
   "cell_type": "markdown",
   "id": "04a76ce1",
   "metadata": {},
   "source": [
    "OLS - ORDINARY LEAST SQUARE"
   ]
  },
  {
   "cell_type": "code",
   "execution_count": 10,
   "id": "d60560d7",
   "metadata": {},
   "outputs": [],
   "source": [
    "#We need to use ols method now\n",
    "#import required lib and then use the function from lib\n",
    "\n",
    "import statsmodels.formula.api as smf"
   ]
  },
  {
   "cell_type": "code",
   "execution_count": 11,
   "id": "65324fce",
   "metadata": {},
   "outputs": [],
   "source": [
    "#the way u pass data here:\n",
    "                          #y~x = y=b0+b1x     (#y dependent on x)\n",
    "                          #train the model to get best fit line\n",
    "                          #fit() - trains the data\n",
    "\n",
    "model=smf.ols(\"Salary~YearsExperience\",data=df).fit()      "
   ]
  },
  {
   "cell_type": "code",
   "execution_count": 12,
   "id": "275ea956",
   "metadata": {},
   "outputs": [
    {
     "data": {
      "text/plain": [
       "Intercept          25792.200199\n",
       "YearsExperience     9449.962321\n",
       "dtype: float64"
      ]
     },
     "execution_count": 12,
     "metadata": {},
     "output_type": "execute_result"
    }
   ],
   "source": [
    "#to check our intercept and constant use (params)  or parameters\n",
    "\n",
    "model.params           #b0 = intercept = 25792\n",
    "                       #b1 = slope     =  9449"
   ]
  },
  {
   "cell_type": "code",
   "execution_count": 13,
   "id": "bf0a8e15",
   "metadata": {},
   "outputs": [],
   "source": [
    "#We have fitted and trained the line\n",
    "#Now we have to predict, so use predict method\n",
    "\n",
    "\n",
    "pred=model.predict(df.iloc[:,0])       #for prediction we give input (YearsExperience)\n",
    "                                  #Based on it we y pred"
   ]
  },
  {
   "cell_type": "code",
   "execution_count": 14,
   "id": "7af1d994",
   "metadata": {
    "scrolled": true
   },
   "outputs": [
    {
     "data": {
      "text/html": [
       "<div>\n",
       "<style scoped>\n",
       "    .dataframe tbody tr th:only-of-type {\n",
       "        vertical-align: middle;\n",
       "    }\n",
       "\n",
       "    .dataframe tbody tr th {\n",
       "        vertical-align: top;\n",
       "    }\n",
       "\n",
       "    .dataframe thead th {\n",
       "        text-align: right;\n",
       "    }\n",
       "</style>\n",
       "<table border=\"1\" class=\"dataframe\">\n",
       "  <thead>\n",
       "    <tr style=\"text-align: right;\">\n",
       "      <th></th>\n",
       "      <th>YearsExperience</th>\n",
       "      <th>Salary</th>\n",
       "    </tr>\n",
       "  </thead>\n",
       "  <tbody>\n",
       "    <tr>\n",
       "      <th>0</th>\n",
       "      <td>1.1</td>\n",
       "      <td>39343.0</td>\n",
       "    </tr>\n",
       "    <tr>\n",
       "      <th>1</th>\n",
       "      <td>1.3</td>\n",
       "      <td>46205.0</td>\n",
       "    </tr>\n",
       "    <tr>\n",
       "      <th>2</th>\n",
       "      <td>1.5</td>\n",
       "      <td>37731.0</td>\n",
       "    </tr>\n",
       "    <tr>\n",
       "      <th>3</th>\n",
       "      <td>2.0</td>\n",
       "      <td>43525.0</td>\n",
       "    </tr>\n",
       "    <tr>\n",
       "      <th>4</th>\n",
       "      <td>2.2</td>\n",
       "      <td>39891.0</td>\n",
       "    </tr>\n",
       "  </tbody>\n",
       "</table>\n",
       "</div>"
      ],
      "text/plain": [
       "   YearsExperience   Salary\n",
       "0              1.1  39343.0\n",
       "1              1.3  46205.0\n",
       "2              1.5  37731.0\n",
       "3              2.0  43525.0\n",
       "4              2.2  39891.0"
      ]
     },
     "execution_count": 14,
     "metadata": {},
     "output_type": "execute_result"
    }
   ],
   "source": [
    "df.head()   #original y u can see"
   ]
  },
  {
   "cell_type": "code",
   "execution_count": 15,
   "id": "dd41df61",
   "metadata": {
    "scrolled": true
   },
   "outputs": [
    {
     "data": {
      "text/plain": [
       "0      36187.158752\n",
       "1      38077.151217\n",
       "2      39967.143681\n",
       "3      44692.124842\n",
       "4      46582.117306\n",
       "5      53197.090931\n",
       "6      54142.087163\n",
       "7      56032.079627\n",
       "8      56032.079627\n",
       "9      60757.060788\n",
       "10     62647.053252\n",
       "11     63592.049484\n",
       "12     63592.049484\n",
       "13     64537.045717\n",
       "14     68317.030645\n",
       "15     72097.015574\n",
       "16     73987.008038\n",
       "17     75877.000502\n",
       "18     81546.977895\n",
       "19     82491.974127\n",
       "20     90051.943985\n",
       "21     92886.932681\n",
       "22    100446.902538\n",
       "23    103281.891235\n",
       "24    108006.872395\n",
       "25    110841.861092\n",
       "26    115566.842252\n",
       "27    116511.838485\n",
       "28    123126.812110\n",
       "29    125016.804574\n",
       "dtype: float64"
      ]
     },
     "execution_count": 15,
     "metadata": {},
     "output_type": "execute_result"
    }
   ],
   "source": [
    "pred         #predicted y you can see here"
   ]
  },
  {
   "cell_type": "code",
   "execution_count": 16,
   "id": "e3b73926",
   "metadata": {
    "scrolled": true
   },
   "outputs": [
    {
     "data": {
      "text/plain": [
       "[<matplotlib.lines.Line2D at 0x7f92d01c5a60>]"
      ]
     },
     "execution_count": 16,
     "metadata": {},
     "output_type": "execute_result"
    },
    {
     "data": {
      "image/png": "[encoded data removed]",
      "text/plain": [
       "<Figure size 432x288 with 1 Axes>"
      ]
     },
     "metadata": {
      "needs_background": "light"
     },
     "output_type": "display_data"
    }
   ],
   "source": [
    "#Let us now see the data using scatter plot\n",
    "#actual y      (red dots)\n",
    "#predicted y   (regression line in black)\n",
    "\n",
    "plt.scatter(x=df['YearsExperience'],y=df['Salary'],color='red')   \n",
    "plt.plot(df['YearsExperience'],pred,color='black')  "
   ]
  },
  {
   "cell_type": "code",
   "execution_count": 17,
   "id": "35b88488",
   "metadata": {},
   "outputs": [],
   "source": [
    "#So far we have seen reg using statsmodel lib\n",
    "\n",
    "\n",
    "#Now let us see it using sklearn lib\n"
   ]
  },
  {
   "cell_type": "code",
   "execution_count": 18,
   "id": "3730817a",
   "metadata": {},
   "outputs": [],
   "source": [
    "#first we must seperate our x and y\n",
    "\n",
    "features=df.iloc[:,[0]].values                 #.values = converts to array\n",
    "labels=df.iloc[:,[1]].values                   #array is required format"
   ]
  },
  {
   "cell_type": "code",
   "execution_count": 19,
   "id": "15adb363",
   "metadata": {},
   "outputs": [
    {
     "data": {
      "text/plain": [
       "(30, 1)"
      ]
     },
     "execution_count": 19,
     "metadata": {},
     "output_type": "execute_result"
    }
   ],
   "source": [
    "features.shape         #2d array"
   ]
  },
  {
   "cell_type": "code",
   "execution_count": 20,
   "id": "dab08cac",
   "metadata": {
    "scrolled": true
   },
   "outputs": [
    {
     "data": {
      "text/plain": [
       "(30, 1)"
      ]
     },
     "execution_count": 20,
     "metadata": {},
     "output_type": "execute_result"
    }
   ],
   "source": [
    "labels.shape          #2d array"
   ]
  },
  {
   "cell_type": "code",
   "execution_count": 21,
   "id": "56fe3668",
   "metadata": {},
   "outputs": [],
   "source": [
    "#import from sklearn the needed function\n",
    "\n",
    "from sklearn.linear_model import LinearRegression"
   ]
  },
  {
   "cell_type": "code",
   "execution_count": 22,
   "id": "0cc4aa9f",
   "metadata": {},
   "outputs": [
    {
     "data": {
      "text/plain": [
       "LinearRegression()"
      ]
     },
     "execution_count": 22,
     "metadata": {},
     "output_type": "execute_result"
    }
   ],
   "source": [
    "model1=LinearRegression()               #calling object\n",
    "model1.fit(features,labels)"
   ]
  },
  {
   "cell_type": "code",
   "execution_count": 23,
   "id": "5bb6e5d5",
   "metadata": {},
   "outputs": [],
   "source": [
    "#to see b0 and b1 in sklearn \n",
    "#use .intercept_\n",
    "#    .coef_"
   ]
  },
  {
   "cell_type": "code",
   "execution_count": 24,
   "id": "d9e98884",
   "metadata": {},
   "outputs": [
    {
     "data": {
      "text/plain": [
       "array([25792.20019867])"
      ]
     },
     "execution_count": 24,
     "metadata": {},
     "output_type": "execute_result"
    }
   ],
   "source": [
    "model1.intercept_    #b0"
   ]
  },
  {
   "cell_type": "code",
   "execution_count": 25,
   "id": "4284b6a5",
   "metadata": {},
   "outputs": [
    {
     "data": {
      "text/plain": [
       "array([[9449.96232146]])"
      ]
     },
     "execution_count": 25,
     "metadata": {},
     "output_type": "execute_result"
    }
   ],
   "source": [
    "model1.coef_      #b1"
   ]
  },
  {
   "cell_type": "code",
   "execution_count": 26,
   "id": "155dc164",
   "metadata": {},
   "outputs": [],
   "source": [
    "pred1=model1.predict(features)"
   ]
  },
  {
   "cell_type": "code",
   "execution_count": 27,
   "id": "43952edd",
   "metadata": {},
   "outputs": [
    {
     "data": {
      "text/plain": [
       "array([[ 36187.15875227],\n",
       "       [ 38077.15121656],\n",
       "       [ 39967.14368085],\n",
       "       [ 44692.12484158],\n",
       "       [ 46582.11730587],\n",
       "       [ 53197.09093089],\n",
       "       [ 54142.08716303],\n",
       "       [ 56032.07962732],\n",
       "       [ 56032.07962732],\n",
       "       [ 60757.06078805],\n",
       "       [ 62647.05325234],\n",
       "       [ 63592.04948449],\n",
       "       [ 63592.04948449],\n",
       "       [ 64537.04571663],\n",
       "       [ 68317.03064522],\n",
       "       [ 72097.0155738 ],\n",
       "       [ 73987.00803809],\n",
       "       [ 75877.00050238],\n",
       "       [ 81546.97789525],\n",
       "       [ 82491.9741274 ],\n",
       "       [ 90051.94398456],\n",
       "       [ 92886.932681  ],\n",
       "       [100446.90253816],\n",
       "       [103281.8912346 ],\n",
       "       [108006.87239533],\n",
       "       [110841.86109176],\n",
       "       [115566.84225249],\n",
       "       [116511.83848464],\n",
       "       [123126.81210966],\n",
       "       [125016.80457395]])"
      ]
     },
     "execution_count": 27,
     "metadata": {},
     "output_type": "execute_result"
    }
   ],
   "source": [
    "pred1"
   ]
  },
  {
   "cell_type": "code",
   "execution_count": 28,
   "id": "6b4f9cf5",
   "metadata": {},
   "outputs": [
    {
     "data": {
      "text/plain": [
       "0.9569566641435086"
      ]
     },
     "execution_count": 28,
     "metadata": {},
     "output_type": "execute_result"
    }
   ],
   "source": [
    "#Rsquare  : use score\n",
    "#when Rsquare is closest to 1 it means there is very strong rtln b/w x and y\n",
    "#as we can the 0.95% of y is based on x\n",
    "model1.score(features,labels)"
   ]
  },
  {
   "cell_type": "code",
   "execution_count": 29,
   "id": "7a72756b",
   "metadata": {},
   "outputs": [],
   "source": [
    "#So far we have trained our entire data, but in real life we shd not do so.\n",
    "#If we train entire data, our ML algorithm will learn it up and may predict wrong for\n",
    "                                 #unkown data\n",
    "    \n",
    "#Therefore we must split our data:\n",
    " #1. Training data : for training model\n",
    " #2. Testing data  : to see qlty of model"
   ]
  },
  {
   "cell_type": "code",
   "execution_count": 30,
   "id": "7240a933",
   "metadata": {},
   "outputs": [],
   "source": [
    "#To split our data we use sklearn model_selection for train test split\n",
    "\n",
    "from sklearn.model_selection import train_test_split"
   ]
  },
  {
   "cell_type": "code",
   "execution_count": 31,
   "id": "79b3d9a1",
   "metadata": {},
   "outputs": [],
   "source": [
    "#test size (80-20, 70-30, 60-40 etc..) \n",
    "\n",
    "# it means train is 80, test is 20\n",
    "\n",
    "# so we only train or fit our model for 80% of data.\n",
    "# and then we make predictions.\n",
    "\n",
    "#random state means calling fixed/same random observations everytime we repeat exp.\n",
    "\n",
    "#we get 4 things here after the splitting happens\n",
    "#1. x_train   2. x_test.   3. y_train     4. y_test\n",
    "\n",
    "x_train,x_test,y_train,y_test=train_test_split(features,labels,test_size=0.2,random_state=23) "
   ]
  },
  {
   "cell_type": "code",
   "execution_count": 32,
   "id": "76297f89",
   "metadata": {},
   "outputs": [
    {
     "data": {
      "text/plain": [
       "array([[ 8.7],\n",
       "       [ 1.3],\n",
       "       [ 2. ],\n",
       "       [ 9.5],\n",
       "       [ 5.3],\n",
       "       [ 5.9],\n",
       "       [ 1.1],\n",
       "       [ 4.5],\n",
       "       [ 2.9],\n",
       "       [ 4. ],\n",
       "       [ 1.5],\n",
       "       [ 9. ],\n",
       "       [ 8.2],\n",
       "       [10.3],\n",
       "       [10.5],\n",
       "       [ 3.2],\n",
       "       [ 4. ],\n",
       "       [ 4.1],\n",
       "       [ 9.6],\n",
       "       [ 7.9],\n",
       "       [ 3.7],\n",
       "       [ 3.2],\n",
       "       [ 3. ],\n",
       "       [ 6. ]])"
      ]
     },
     "execution_count": 32,
     "metadata": {},
     "output_type": "execute_result"
    }
   ],
   "source": [
    "x_train"
   ]
  },
  {
   "cell_type": "code",
   "execution_count": 33,
   "id": "e63a24ae",
   "metadata": {},
   "outputs": [
    {
     "data": {
      "text/plain": [
       "array([[5.1],\n",
       "       [6.8],\n",
       "       [3.9],\n",
       "       [4.9],\n",
       "       [7.1],\n",
       "       [2.2]])"
      ]
     },
     "execution_count": 33,
     "metadata": {},
     "output_type": "execute_result"
    }
   ],
   "source": [
    "x_test"
   ]
  },
  {
   "cell_type": "code",
   "execution_count": 34,
   "id": "0c0e7136",
   "metadata": {},
   "outputs": [
    {
     "data": {
      "text/plain": [
       "LinearRegression()"
      ]
     },
     "execution_count": 34,
     "metadata": {},
     "output_type": "execute_result"
    }
   ],
   "source": [
    "#Train the model\n",
    "\n",
    "model2=LinearRegression()\n",
    "model2.fit(x_train,y_train)      #get x and y of training data"
   ]
  },
  {
   "cell_type": "code",
   "execution_count": 35,
   "id": "2a1cabf5",
   "metadata": {},
   "outputs": [
    {
     "data": {
      "text/plain": [
       "0.9603182547438908"
      ]
     },
     "execution_count": 35,
     "metadata": {},
     "output_type": "execute_result"
    }
   ],
   "source": [
    "#checking Rsquare on training data\n",
    "\n",
    "model2.score(x_train,y_train)"
   ]
  },
  {
   "cell_type": "code",
   "execution_count": 36,
   "id": "192cffdc",
   "metadata": {},
   "outputs": [
    {
     "data": {
      "text/plain": [
       "0.9184170849214232"
      ]
     },
     "execution_count": 36,
     "metadata": {},
     "output_type": "execute_result"
    }
   ],
   "source": [
    "#checking Rsquare on testing data\n",
    "\n",
    "model2.score(x_test,y_test)"
   ]
  },
  {
   "cell_type": "code",
   "execution_count": 37,
   "id": "fb471ef9",
   "metadata": {},
   "outputs": [],
   "source": [
    "#making predictions\n",
    "\n",
    "pred3=model2.predict(x_test)     #prediction on testing data, so i gave testing i/p"
   ]
  },
  {
   "cell_type": "code",
   "execution_count": 38,
   "id": "b785b06d",
   "metadata": {
    "scrolled": true
   },
   "outputs": [
    {
     "data": {
      "text/plain": [
       "array([[74501.41002938],\n",
       "       [90279.63442954],\n",
       "       [63363.83986457],\n",
       "       [72645.14833525],\n",
       "       [93064.02697075],\n",
       "       [47585.61546441]])"
      ]
     },
     "execution_count": 38,
     "metadata": {},
     "output_type": "execute_result"
    }
   ],
   "source": [
    "pred3                            #predicted y for testing data"
   ]
  },
  {
   "cell_type": "code",
   "execution_count": 39,
   "id": "3f01c243",
   "metadata": {},
   "outputs": [
    {
     "data": {
      "text/plain": [
       "array([[66029.],\n",
       "       [91738.],\n",
       "       [63218.],\n",
       "       [67938.],\n",
       "       [98273.],\n",
       "       [39891.]])"
      ]
     },
     "execution_count": 39,
     "metadata": {},
     "output_type": "execute_result"
    }
   ],
   "source": [
    "y_test                         #actual y of testing data"
   ]
  },
  {
   "cell_type": "code",
   "execution_count": 40,
   "id": "b7dc12c3",
   "metadata": {},
   "outputs": [
    {
     "data": {
      "text/plain": [
       "1.0"
      ]
     },
     "execution_count": 40,
     "metadata": {},
     "output_type": "execute_result"
    }
   ],
   "source": [
    "#Checking rquare for predicted data\n",
    "\n",
    "\n",
    "model2.score(x_test,pred3)      #its perfect and all datapts r within the line"
   ]
  },
  {
   "cell_type": "code",
   "execution_count": 41,
   "id": "1fe31135",
   "metadata": {},
   "outputs": [],
   "source": [
    "####\n",
    "\n",
    "\n",
    "\n",
    "#Mean squared error = taking mean of the squared error\n",
    "#Root Mean Squared Error = root of mean sqaured error (unitless)  \n",
    "\n",
    "\n",
    "#we can import from sklearn metrics"
   ]
  },
  {
   "cell_type": "code",
   "execution_count": 42,
   "id": "162e842d",
   "metadata": {},
   "outputs": [],
   "source": [
    "from sklearn.metrics import mean_squared_error, r2_score"
   ]
  },
  {
   "cell_type": "code",
   "execution_count": 43,
   "id": "5c54a0a6",
   "metadata": {},
   "outputs": [],
   "source": [
    "#MSE, r2\n",
    "#(b/w actual y and predicted y for training data)\n",
    "#you can do the same for testing data\n",
    "\n",
    "mse=mean_squared_error(y_train,model2.predict(x_train))  \n",
    "r2=r2_score(y_train,model2.predict(x_train))"
   ]
  },
  {
   "cell_type": "code",
   "execution_count": 44,
   "id": "9c2e4e7e",
   "metadata": {},
   "outputs": [
    {
     "name": "stdout",
     "output_type": "stream",
     "text": [
      "MSE 32050452.832389366\n",
      "r2 0.9603182547438908\n"
     ]
    }
   ],
   "source": [
    "print('MSE',mse)\n",
    "print('r2',r2)"
   ]
  },
  {
   "cell_type": "code",
   "execution_count": 45,
   "id": "e095902b",
   "metadata": {},
   "outputs": [
    {
     "data": {
      "text/plain": [
       "5661.311935619638"
      ]
     },
     "execution_count": 45,
     "metadata": {},
     "output_type": "execute_result"
    }
   ],
   "source": [
    "np.sqrt(mse)         #on an avg there is an error of +5661 or -5661"
   ]
  }
 ],
 "metadata": {
  "kernelspec": {
   "display_name": "Python 3",
   "language": "python",
   "name": "python3"
  },
  "language_info": {
   "codemirror_mode": {
    "name": "ipython",
    "version": 3
   },
   "file_extension": ".py",
   "mimetype": "text/x-python",
   "name": "python",
   "nbconvert_exporter": "python",
   "pygments_lexer": "ipython3",
   "version": "3.8.8"
  }
 },
 "nbformat": 4,
 "nbformat_minor": 5
}
